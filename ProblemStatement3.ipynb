{
  "nbformat": 4,
  "nbformat_minor": 0,
  "metadata": {
    "colab": {
      "name": "ProblemStatement3.ipynb",
      "provenance": [],
      "collapsed_sections": []
    },
    "kernelspec": {
      "name": "python3",
      "display_name": "Python 3"
    },
    "language_info": {
      "name": "python"
    }
  },
  "cells": [
    {
      "cell_type": "code",
      "execution_count": null,
      "metadata": {
        "id": "1HFo9UqVtWVK"
      },
      "outputs": [],
      "source": [
        "import os\n",
        "import datetime"
      ]
    },
    {
      "cell_type": "code",
      "source": [
        "os.chdir(r'C:\\Users\\tanma\\OneDrive\\Documents\\office_work\\')"
      ],
      "metadata": {
        "id": "x0-_uIbo23c-"
      },
      "execution_count": null,
      "outputs": []
    },
    {
      "cell_type": "code",
      "source": [
        "dict={}\n",
        "folders = ['odd_train', 'even_train']\n",
        "files=[]\n",
        "\n",
        "i=0\n",
        "for r,d,f in os.walk(r'C:\\Users\\tanma\\OneDrive\\Documents\\office_work\\'):\n",
        "  for file in f:\n",
        "    dict[file]=os.path.join(r,file)\n",
        "    files.append(file)\n",
        "    i=i+1\n",
        "  if (i==100):\n",
        "    break"
      ],
      "metadata": {
        "id": "kp31nc-mu49F"
      },
      "execution_count": null,
      "outputs": []
    },
    {
      "cell_type": "code",
      "source": [
        "for folder in folders:\n",
        "  if(not os.path.isdir(folder)):\n",
        "    os.mkdir(folder)"
      ],
      "metadata": {
        "id": "fQRl6ad_2rnD"
      },
      "execution_count": null,
      "outputs": []
    },
    {
      "cell_type": "code",
      "source": [
        "for i in range(100):\n",
        "  with open(files[i]) as file:\n",
        "    data = file.read()\n",
        "    ct = datetime.datetime.now().date()\n",
        "    even_file_name= 'even_train\\\\' + files[i] + \"_even_\" + str(ct)\n",
        "    odd_file_name= 'odd_train\\\\' + files[i] + \"_odd_\" + str(ct)\n",
        "    even = open(even_file_name, 'w')\n",
        "    odd = open(odd_file_name, 'w')\n",
        "    line_count=1\n",
        "    for line in data:\n",
        "      if(line_count%2==0):\n",
        "        even.write(line)\n",
        "      else:\n",
        "        odd.write(line)\n",
        "      line_count=line_count+1\n",
        "    even.close()\n",
        "    odd.close()"
      ],
      "metadata": {
        "id": "BjqyZPezyd8G"
      },
      "execution_count": null,
      "outputs": []
    }
  ]
}